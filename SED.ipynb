{
 "cells": [
  {
   "cell_type": "markdown",
   "source": [
    "## SED\n",
    "- sed OPTIONS ... [SCRIPT] [INPUTFILE...]\n",
    "- cat [INPUTFILE] | sed OPTIONS ... [SCRIPT]\n",
    "\n",
    "### Basic Structure\n",
    "\n",
    "SCRIPT\n",
    "- [addr]X[options]\n",
    "- X is a single-letter sed command\n",
    "- [addr] can be a single line number, a regular expression, or a range of lines. if [addr] is specified, the command X will be executed only on the matched lines\n",
    "- Additional [options] are used for some sed commands\n",
    "\n",
    "Example:\n",
    "\n",
    "sed '30,35d' input.txt > output.txt\n",
    "\n",
    "- The following example deletes lines 30 to 35 in the input.\n",
    "- 30,35 is an address range\n",
    "- d is the delete command\n",
    "\n",
    "## Common SED commands\n",
    "- a: append text after a line.\n",
    "- d: delete the pattern space.\n",
    "- i: insert text before a line.\n",
    "- p: print the pattern space.\n",
    "- q[exit-code]: (quit) Exit sed without processing any more commands input.\n",
    "- s/regexp/replacement/[flags]: (substitude) Match the regexp against the content of the pattern space. If found, replace matched string with replacement.\n",
    "\n",
    "## Common Command-line options for SED\n",
    "- -n: disable automatic printing; sed only produces output when explicitly told to via the p command.\n",
    "- -e script: add script.\n",
    "- -r: use extend regexp rather than basis regexp.\n"
   ],
   "metadata": {
    "collapsed": false,
    "pycharm": {
     "name": "#%% md\n"
    }
   }
  },
  {
   "cell_type": "code",
   "execution_count": 1,
   "outputs": [
    {
     "name": "stdout",
     "output_type": "stream",
     "text": [
      "name    age     UNIT\r\n",
      "Peter   50      IT\r\n",
      "Jane    30      HR\r\n",
      "John    25      IT\r\n",
      "Andreas 45      HR"
     ]
    }
   ],
   "source": [
    "!cat employees.txt"
   ],
   "metadata": {
    "collapsed": false,
    "pycharm": {
     "name": "#%%\n"
    }
   }
  },
  {
   "cell_type": "code",
   "execution_count": 2,
   "outputs": [
    {
     "name": "stdout",
     "output_type": "stream",
     "text": [
      "Peter   50      IT\r\n"
     ]
    }
   ],
   "source": [
    "!sed -n '/Peter/p' employees.txt # p for print. Without -n option. sed will print the file line by line by default"
   ],
   "metadata": {
    "collapsed": false,
    "pycharm": {
     "name": "#%%\n"
    }
   }
  },
  {
   "cell_type": "code",
   "execution_count": 3,
   "outputs": [
    {
     "name": "stdout",
     "output_type": "stream",
     "text": [
      "John    25      IT\r\n"
     ]
    }
   ],
   "source": [
    "!sed -n '4p' employees.txt # print the 4th line in the file"
   ],
   "metadata": {
    "collapsed": false,
    "pycharm": {
     "name": "#%%\n"
    }
   }
  },
  {
   "cell_type": "code",
   "execution_count": 4,
   "outputs": [
    {
     "name": "stdout",
     "output_type": "stream",
     "text": [
      "Peter   50      IT\r\n",
      "Jane    30      HR\r\n",
      "John    25      IT\r\n"
     ]
    }
   ],
   "source": [
    "!sed -n '2,4p' employees.txt # print the 2nd to 4th line"
   ],
   "metadata": {
    "collapsed": false,
    "pycharm": {
     "name": "#%%\n"
    }
   }
  },
  {
   "cell_type": "code",
   "execution_count": 5,
   "outputs": [
    {
     "name": "stdout",
     "output_type": "stream",
     "text": [
      "Peter   50      IT\r\n",
      "Jane    30      HR\r\n",
      "John    25      IT\r\n",
      "Andreas 45      HR"
     ]
    }
   ],
   "source": [
    "!sed -n '2,$p' employees.txt # print the 2nd to last line. $ is the number of the last line"
   ],
   "metadata": {
    "collapsed": false,
    "pycharm": {
     "name": "#%%\n"
    }
   }
  },
  {
   "cell_type": "markdown",
   "source": [
    "## Append and Prepend"
   ],
   "metadata": {
    "collapsed": false,
    "pycharm": {
     "name": "#%% md\n"
    }
   }
  },
  {
   "cell_type": "code",
   "execution_count": 6,
   "outputs": [
    {
     "name": "stdout",
     "output_type": "stream",
     "text": [
      "name    age     UNIT\r\n",
      "Peter   50      IT\r\n",
      "appended_text\r\n",
      "Jane    30      HR\r\n",
      "John    25      IT\r\n",
      "appended_text\r\n",
      "Andreas 45      HR"
     ]
    }
   ],
   "source": [
    "!sed '/\\sIT/a appended_text' employees.txt # append text after line that contains pattern \"\\sIT\". (a for append)"
   ],
   "metadata": {
    "collapsed": false,
    "pycharm": {
     "name": "#%%\n"
    }
   }
  },
  {
   "cell_type": "code",
   "execution_count": 7,
   "outputs": [
    {
     "name": "stdout",
     "output_type": "stream",
     "text": [
      "name    age     UNIT\r\n",
      "prepended_text\r\n",
      "Peter   50      IT\r\n",
      "Jane    30      HR\r\n",
      "prepended_text\r\n",
      "John    25      IT\r\n",
      "Andreas 45      HR"
     ]
    }
   ],
   "source": [
    "!sed '/\\sIT/i prepended_text' employees.txt # prepend text before line that contains pattern \"\\sIT\". (a for prepend)"
   ],
   "metadata": {
    "collapsed": false,
    "pycharm": {
     "name": "#%%\n"
    }
   }
  },
  {
   "cell_type": "code",
   "execution_count": 8,
   "outputs": [
    {
     "name": "stdout",
     "output_type": "stream",
     "text": [
      "Employee List\r\n",
      "name    age     UNIT\r\n",
      "Peter   50      IT\r\n",
      "Jane    30      HR\r\n",
      "John    25      IT\r\n",
      "Andreas 45      HR"
     ]
    }
   ],
   "source": [
    "!sed '1i Employee List' employees.txt # prepend text before the first line (1 for the first line number, 2 ...)"
   ],
   "metadata": {
    "collapsed": false,
    "pycharm": {
     "name": "#%%\n"
    }
   }
  },
  {
   "cell_type": "markdown",
   "source": [
    "## Delete"
   ],
   "metadata": {
    "collapsed": false,
    "pycharm": {
     "name": "#%% md\n"
    }
   }
  },
  {
   "cell_type": "code",
   "execution_count": 9,
   "outputs": [
    {
     "name": "stdout",
     "output_type": "stream",
     "text": [
      "name    age     UNIT\r\n",
      "Jane    30      HR\r\n",
      "Andreas 45      HR"
     ]
    }
   ],
   "source": [
    "!sed '/\\sIT/d' employees.txt # Delete line that has pattern \"\\sIT\" in it"
   ],
   "metadata": {
    "collapsed": false,
    "pycharm": {
     "name": "#%%\n"
    }
   }
  },
  {
   "cell_type": "markdown",
   "source": [
    "## Change"
   ],
   "metadata": {
    "collapsed": false,
    "pycharm": {
     "name": "#%% md\n"
    }
   }
  },
  {
   "cell_type": "code",
   "execution_count": 10,
   "outputs": [
    {
     "name": "stdout",
     "output_type": "stream",
     "text": [
      "name    age     UNIT\r\n",
      "Changed_text\r\n",
      "Jane    30      HR\r\n",
      "Changed_text\r\n",
      "Andreas 45      HR"
     ]
    }
   ],
   "source": [
    "!sed '/\\sIT/c Changed_text' employees.txt # Change line that contains the pattern \"\\sIT\" to Changed_text"
   ],
   "metadata": {
    "collapsed": false,
    "pycharm": {
     "name": "#%%\n"
    }
   }
  },
  {
   "cell_type": "markdown",
   "source": [
    "## Quit"
   ],
   "metadata": {
    "collapsed": false,
    "pycharm": {
     "name": "#%% md\n"
    }
   }
  },
  {
   "cell_type": "code",
   "execution_count": 11,
   "outputs": [
    {
     "name": "stdout",
     "output_type": "stream",
     "text": [
      "name    age     UNIT\r\n",
      "Peter   50      IT\r\n",
      "Jane    30      HR\r\n",
      "John    25      IT\r\n"
     ]
    }
   ],
   "source": [
    "!sed '/John/q' employees.txt # print until line meets the pattern /John/"
   ],
   "metadata": {
    "collapsed": false,
    "pycharm": {
     "name": "#%%\n"
    }
   }
  },
  {
   "cell_type": "code",
   "execution_count": 12,
   "outputs": [
    {
     "name": "stdout",
     "output_type": "stream",
     "text": [
      "name    age     UNIT\r\n",
      "Peter   50      IT\r\n",
      "Jane    30      HR\r\n",
      "John    25      IT\r\n"
     ]
    }
   ],
   "source": [
    "!sed '/John/q2' employees.txt # print until line meets the pattern /John/. 2 is the exit status. echo $? to check the status. If pattern is not found, exis status will be 0"
   ],
   "metadata": {
    "collapsed": false,
    "pycharm": {
     "name": "#%%\n"
    }
   }
  },
  {
   "cell_type": "markdown",
   "source": [
    "## -e Option\n",
    "To run multiple commands"
   ],
   "metadata": {
    "collapsed": false,
    "pycharm": {
     "name": "#%% md\n"
    }
   }
  },
  {
   "cell_type": "code",
   "execution_count": 13,
   "outputs": [
    {
     "name": "stdout",
     "output_type": "stream",
     "text": [
      "John    25      IT\r\n"
     ]
    }
   ],
   "source": [
    "!sed -ne '/John/p' -ne '/John/q2' employees.txt"
   ],
   "metadata": {
    "collapsed": false,
    "pycharm": {
     "name": "#%%\n"
    }
   }
  },
  {
   "cell_type": "code",
   "execution_count": 14,
   "outputs": [
    {
     "name": "stdout",
     "output_type": "stream",
     "text": [
      "name    age     UNIT\r\n",
      "Peter   50      IT\r\n",
      "Jane    30      HR\r\n",
      "Before John\r\n",
      "John    25      IT\r\n",
      "After John\r\n",
      "Andreas 45      HR"
     ]
    }
   ],
   "source": [
    "!sed -e '/John/a After John' -e '/John/i Before John' employees.txt # Multiple command wil append and prepend"
   ],
   "metadata": {
    "collapsed": false,
    "pycharm": {
     "name": "#%%\n"
    }
   }
  },
  {
   "cell_type": "markdown",
   "source": [
    "## Override file input"
   ],
   "metadata": {
    "collapsed": false,
    "pycharm": {
     "name": "#%% md\n"
    }
   }
  },
  {
   "cell_type": "code",
   "execution_count": 15,
   "outputs": [],
   "source": [
    "# !sed -ni '/John/p' employees.txt # File employees.txt will then only contain     John    25      IT    (i for overriding input)"
   ],
   "metadata": {
    "collapsed": false,
    "pycharm": {
     "name": "#%%\n"
    }
   }
  },
  {
   "cell_type": "markdown",
   "source": [
    "## Perform shell commands"
   ],
   "metadata": {
    "collapsed": false,
    "pycharm": {
     "name": "#%% md\n"
    }
   }
  },
  {
   "cell_type": "code",
   "execution_count": 16,
   "outputs": [
    {
     "name": "stdout",
     "output_type": "stream",
     "text": [
      "Date:  Mon 29 Aug 2022 04:43:29 PM +07\r\n",
      "name    age     UNIT\r\n",
      "Peter   50      IT\r\n",
      "Jane    30      HR\r\n",
      "John    25      IT\r\n",
      "Andreas 45      HR"
     ]
    }
   ],
   "source": [
    "!sed '/name/e echo \"Date: \" $(date)' employees.txt"
   ],
   "metadata": {
    "collapsed": false,
    "pycharm": {
     "name": "#%%\n"
    }
   }
  },
  {
   "cell_type": "markdown",
   "source": [
    "## Substitute"
   ],
   "metadata": {
    "collapsed": false,
    "pycharm": {
     "name": "#%% md\n"
    }
   }
  },
  {
   "cell_type": "code",
   "execution_count": 17,
   "outputs": [
    {
     "name": "stdout",
     "output_type": "stream",
     "text": [
      "one two three\r\n"
     ]
    }
   ],
   "source": [
    "!echo \"one five three\" | sed 's/five/two/' # s at the start for substitute"
   ],
   "metadata": {
    "collapsed": false,
    "pycharm": {
     "name": "#%%\n"
    }
   }
  },
  {
   "cell_type": "code",
   "execution_count": 18,
   "outputs": [
    {
     "name": "stdout",
     "output_type": "stream",
     "text": [
      "one five three nonono 505\r\n"
     ]
    }
   ],
   "source": [
    "!echo \"one five three 333 505\" | sed 's/[[:digit:]]\\+/nonono/' # s at the start for substitute, g at the end for replacing globally (not only the first matched word)"
   ],
   "metadata": {
    "collapsed": false,
    "pycharm": {
     "name": "#%%\n"
    }
   }
  },
  {
   "cell_type": "code",
   "execution_count": 19,
   "outputs": [
    {
     "name": "stdout",
     "output_type": "stream",
     "text": [
      "one five three nonono nonono\r\n"
     ]
    }
   ],
   "source": [
    "!echo \"one five three 333 505\" | sed 's/[[:digit:]]\\+/nonono/g' # s at the start for substitute, g at the end for replacing globally (not only the first matched word)"
   ],
   "metadata": {
    "collapsed": false,
    "pycharm": {
     "name": "#%%\n"
    }
   }
  },
  {
   "cell_type": "code",
   "execution_count": 20,
   "outputs": [
    {
     "name": "stdout",
     "output_type": "stream",
     "text": [
      "name    age     UNIT\r\n",
      "Peter   50      DATA\r\n",
      "Jane    30      HR\r\n",
      "John    25      DATA\r\n",
      "Andreas 45      HR"
     ]
    }
   ],
   "source": [
    "!cat employees.txt | sed 's/\\sIT/ DATA/'"
   ],
   "metadata": {
    "collapsed": false,
    "pycharm": {
     "name": "#%%\n"
    }
   }
  },
  {
   "cell_type": "code",
   "execution_count": 21,
   "outputs": [
    {
     "name": "stdout",
     "output_type": "stream",
     "text": [
      "name    age     UNIT\r\n",
      "Peter   50      IT\r\n",
      "Jane    30      HR\r\n",
      "John    25      DATA\r\n",
      "Andreas 45      HR"
     ]
    }
   ],
   "source": [
    "!cat employees.txt | sed '4s/\\sIT/ DATA/' # Replace patterns only on the forth line"
   ],
   "metadata": {
    "collapsed": false,
    "pycharm": {
     "name": "#%%\n"
    }
   }
  },
  {
   "cell_type": "code",
   "execution_count": 22,
   "outputs": [
    {
     "name": "stdout",
     "output_type": "stream",
     "text": [
      "name    age     UNIT\r\n",
      "Peter   50      DATA\r\n",
      "Jane    30      HR\r\n",
      "John    25      IT\r\n",
      "Andreas 45      HR"
     ]
    }
   ],
   "source": [
    "!cat employees.txt | sed '1,3s/\\sIT/ DATA/' # Replace patterns only from line 1 to 3"
   ],
   "metadata": {
    "collapsed": false,
    "pycharm": {
     "name": "#%%\n"
    }
   }
  },
  {
   "cell_type": "code",
   "execution_count": 23,
   "outputs": [
    {
     "name": "stdout",
     "output_type": "stream",
     "text": [
      "name    age     UNIT\r\n",
      "Peter   ***      IT\r\n",
      "Jane    30      HR\r\n",
      "John    25      IT\r\n",
      "Andreas ***      HR"
     ]
    }
   ],
   "source": [
    "!cat employees.txt | sed 's/[4-9][[:digit:]]/***/' # hide age of people 40 years old or older (Assuming no one is 100 years old or more since the pattern only matches 2 characters)"
   ],
   "metadata": {
    "collapsed": false,
    "pycharm": {
     "name": "#%%\n"
    }
   }
  },
  {
   "cell_type": "code",
   "execution_count": 24,
   "outputs": [
    {
     "name": "stdout",
     "output_type": "stream",
     "text": [
      "name    age     UNIT\r\n",
      "Peter   50      IT\r\n",
      "Jane    30      HR HR HR\r\n",
      "John    25      IT\r\n",
      "Andreas 45      HR HR HR"
     ]
    }
   ],
   "source": [
    "!cat employees.txt | sed 's/HR/& & &/' # replace matched patterns with multiple of the same patterns (Ampersand(&))"
   ],
   "metadata": {
    "collapsed": false,
    "pycharm": {
     "name": "#%%\n"
    }
   }
  },
  {
   "cell_type": "code",
   "execution_count": null,
   "outputs": [],
   "source": [],
   "metadata": {
    "collapsed": false,
    "pycharm": {
     "name": "#%%\n"
    }
   }
  }
 ],
 "metadata": {
  "kernelspec": {
   "display_name": "Python 3",
   "language": "python",
   "name": "python3"
  },
  "language_info": {
   "codemirror_mode": {
    "name": "ipython",
    "version": 2
   },
   "file_extension": ".py",
   "mimetype": "text/x-python",
   "name": "python",
   "nbconvert_exporter": "python",
   "pygments_lexer": "ipython2",
   "version": "2.7.6"
  }
 },
 "nbformat": 4,
 "nbformat_minor": 0
}