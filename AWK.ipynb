{
 "cells": [
  {
   "cell_type": "markdown",
   "source": [
    "## AWK\n",
    "\n",
    "- searches files for lines that contain certain patterns\n",
    "- performs operation described in AWK body on line with certain pattern\n",
    "- performs operation described in AWK body on chosen line\n",
    "\n",
    "### Basic Structure\n",
    "\n",
    "awk 'program_you_will_write' input-file1 input-file2 ...\n",
    "\n",
    "awk 'BEGIN{code_in_BEGIN_section}   {code_in_main_body_section}   END{code_in_END_section}' input-file1 input-file2 ..."
   ],
   "metadata": {
    "collapsed": false,
    "pycharm": {
     "name": "#%% md\n"
    }
   }
  },
  {
   "cell_type": "code",
   "execution_count": 1,
   "outputs": [
    {
     "name": "stdout",
     "output_type": "stream",
     "text": [
      "Hello\r\n"
     ]
    }
   ],
   "source": [
    "!awk 'BEGIN{print \"Hello\"}' # Begin section ran before any line being processed"
   ],
   "metadata": {
    "collapsed": false,
    "pycharm": {
     "name": "#%%\n"
    }
   }
  },
  {
   "cell_type": "code",
   "execution_count": 2,
   "outputs": [],
   "source": [
    "# !awk '{print \"Hello\"}' # Print hello after every new line (Please run in Terminal)"
   ],
   "metadata": {
    "collapsed": false,
    "pycharm": {
     "name": "#%%\n"
    }
   }
  },
  {
   "cell_type": "code",
   "execution_count": 3,
   "outputs": [
    {
     "name": "stdout",
     "output_type": "stream",
     "text": [
      "Hello\r\n"
     ]
    }
   ],
   "source": [
    "!echo hello 1 2 3 | awk 'BEGIN{print \"Hello\"}' # hello 1 2 3 is treated as one line hence Hello only print one time"
   ],
   "metadata": {
    "collapsed": false,
    "pycharm": {
     "name": "#%%\n"
    }
   }
  },
  {
   "cell_type": "code",
   "execution_count": 4,
   "outputs": [
    {
     "name": "stdout",
     "output_type": "stream",
     "text": [
      "first line 1\r\n",
      "second line 2\r\n",
      "third line 3"
     ]
    }
   ],
   "source": [
    "!cat hello.txt"
   ],
   "metadata": {
    "collapsed": false,
    "pycharm": {
     "name": "#%%\n"
    }
   }
  },
  {
   "cell_type": "code",
   "execution_count": 5,
   "outputs": [
    {
     "name": "stdout",
     "output_type": "stream",
     "text": [
      "Hello\r\n",
      "Hello\r\n",
      "Hello\r\n"
     ]
    }
   ],
   "source": [
    "!awk '{print \"Hello\"}' hello.txt"
   ],
   "metadata": {
    "collapsed": false,
    "pycharm": {
     "name": "#%%\n"
    }
   }
  },
  {
   "cell_type": "code",
   "execution_count": 6,
   "outputs": [
    {
     "name": "stdout",
     "output_type": "stream",
     "text": [
      "Hello\r\n",
      "Hello\r\n",
      "Hello\r\n"
     ]
    }
   ],
   "source": [
    "!cat hello.txt | awk '{print \"Hello\"}'"
   ],
   "metadata": {
    "collapsed": false,
    "pycharm": {
     "name": "#%%\n"
    }
   }
  },
  {
   "cell_type": "code",
   "execution_count": 7,
   "outputs": [
    {
     "name": "stdout",
     "output_type": "stream",
     "text": [
      "Starting\r\n",
      "Hello\r\n",
      "Hello\r\n",
      "Hello\r\n"
     ]
    }
   ],
   "source": [
    "!awk 'BEGIN{print \"Starting\"} {print \"Hello\"}' hello.txt"
   ],
   "metadata": {
    "collapsed": false,
    "pycharm": {
     "name": "#%%\n"
    }
   }
  },
  {
   "cell_type": "code",
   "execution_count": 8,
   "outputs": [
    {
     "name": "stdout",
     "output_type": "stream",
     "text": [
      "Starting\r\n",
      "Hello\r\n",
      "Hello\r\n",
      "Hello\r\n",
      "Ending\r\n"
     ]
    }
   ],
   "source": [
    "!awk 'BEGIN{print \"Starting\"} {print \"Hello\"} END{print \"Ending\"}' hello.txt"
   ],
   "metadata": {
    "collapsed": false,
    "pycharm": {
     "name": "#%%\n"
    }
   }
  },
  {
   "cell_type": "markdown",
   "source": [
    "## Fields"
   ],
   "metadata": {
    "collapsed": false,
    "pycharm": {
     "name": "#%% md\n"
    }
   }
  },
  {
   "cell_type": "code",
   "execution_count": 9,
   "outputs": [
    {
     "name": "stdout",
     "output_type": "stream",
     "text": [
      "first line 1\r\n",
      "second line 2\r\n",
      "third line 3\r\n"
     ]
    }
   ],
   "source": [
    "!cat hello.txt | awk '{print $0}' # $0 will print all fields in a line"
   ],
   "metadata": {
    "collapsed": false,
    "pycharm": {
     "name": "#%%\n"
    }
   }
  },
  {
   "cell_type": "code",
   "execution_count": 10,
   "outputs": [
    {
     "name": "stdout",
     "output_type": "stream",
     "text": [
      "first\r\n",
      "second\r\n",
      "third\r\n"
     ]
    }
   ],
   "source": [
    "!cat hello.txt | awk '{print $1}' # $1 will print the first field"
   ],
   "metadata": {
    "collapsed": false,
    "pycharm": {
     "name": "#%%\n"
    }
   }
  },
  {
   "cell_type": "code",
   "execution_count": 11,
   "outputs": [
    {
     "name": "stdout",
     "output_type": "stream",
     "text": [
      "line\r\n",
      "line\r\n",
      "line\r\n"
     ]
    }
   ],
   "source": [
    "!cat hello.txt | awk '{print $2}' # $2 will print the second field and so on"
   ],
   "metadata": {
    "collapsed": false,
    "pycharm": {
     "name": "#%%\n"
    }
   }
  },
  {
   "cell_type": "code",
   "execution_count": 12,
   "outputs": [
    {
     "name": "stdout",
     "output_type": "stream",
     "text": [
      "first is 1 adding at the end\r\n",
      "second is 2 adding at the end\r\n",
      "third is 3 adding at the end\r\n"
     ]
    }
   ],
   "source": [
    "# Adding characters in fields\n",
    "!cat hello.txt | awk '{print $1 \" is \" $3 \" adding at the end\"}' # Cannot add at the end"
   ],
   "metadata": {
    "collapsed": false,
    "pycharm": {
     "name": "#%%\n"
    }
   }
  },
  {
   "cell_type": "markdown",
   "source": [
    "# Searching Pattern"
   ],
   "metadata": {
    "collapsed": false,
    "pycharm": {
     "name": "#%% md\n"
    }
   }
  },
  {
   "cell_type": "code",
   "execution_count": 13,
   "outputs": [
    {
     "name": "stdout",
     "output_type": "stream",
     "text": [
      "name    age     UNIT\r\n",
      "Peter   50      IT\r\n",
      "Jane    30      HR\r\n",
      "John    25      IT\r\n",
      "Andreas 45      HR"
     ]
    }
   ],
   "source": [
    "!cat employees.txt"
   ],
   "metadata": {
    "collapsed": false,
    "pycharm": {
     "name": "#%%\n"
    }
   }
  },
  {
   "cell_type": "code",
   "execution_count": 14,
   "outputs": [
    {
     "name": "stdout",
     "output_type": "stream",
     "text": [
      "name    age     UNIT\r\n",
      "Jane    30      HR\r\n",
      "John    25      IT\r\n",
      "Andreas 45      HR\r\n"
     ]
    }
   ],
   "source": [
    "!cat employees.txt | awk '/n/' # Print line that has letter n in the line"
   ],
   "metadata": {
    "collapsed": false,
    "pycharm": {
     "name": "#%%\n"
    }
   }
  },
  {
   "cell_type": "code",
   "execution_count": 15,
   "outputs": [
    {
     "name": "stdout",
     "output_type": "stream",
     "text": [
      "Peter IT\r\n"
     ]
    }
   ],
   "source": [
    "!cat employees.txt | awk '/Peter/ {print $1 \" \" $3}' # Print line that has Peter with field 1 and 3"
   ],
   "metadata": {
    "collapsed": false,
    "pycharm": {
     "name": "#%%\n"
    }
   }
  },
  {
   "cell_type": "code",
   "execution_count": 16,
   "outputs": [
    {
     "name": "stdout",
     "output_type": "stream",
     "text": [
      "Peter IT\r\n",
      "John IT\r\n"
     ]
    }
   ],
   "source": [
    "!cat employees.txt | awk '/\\sIT/ {print $1 \" \" $3}'  # Print line that has ' IT' (space) (regex) with field 1 and 3"
   ],
   "metadata": {
    "collapsed": false,
    "pycharm": {
     "name": "#%%\n"
    }
   }
  },
  {
   "cell_type": "code",
   "execution_count": 17,
   "outputs": [
    {
     "name": "stdout",
     "output_type": "stream",
     "text": [
      "Jane HR\r\n",
      "Andreas HR\r\n"
     ]
    }
   ],
   "source": [
    "!cat employees.txt | awk '!/IT/ {print $1 \" \" $3}'  # Print line that doesn't have IT in it"
   ],
   "metadata": {
    "collapsed": false,
    "pycharm": {
     "name": "#%%\n"
    }
   }
  },
  {
   "cell_type": "code",
   "execution_count": 18,
   "outputs": [
    {
     "name": "stdout",
     "output_type": "stream",
     "text": [
      "Peter   50      IT\r\n",
      "John    25      IT\r\n"
     ]
    }
   ],
   "source": [
    "!cat employees.txt | awk '!/^name/' | awk '/IT/' # remove header and print only IT people"
   ],
   "metadata": {
    "collapsed": false,
    "pycharm": {
     "name": "#%%\n"
    }
   }
  },
  {
   "cell_type": "code",
   "execution_count": 19,
   "outputs": [
    {
     "name": "stdout",
     "output_type": "stream",
     "text": [
      "Peter   50      IT\r\n"
     ]
    }
   ],
   "source": [
    "!cat employees.txt | awk '$1 == \"Peter\"' # AWK only go line by line and scan the first field not the whole line"
   ],
   "metadata": {
    "collapsed": false,
    "pycharm": {
     "name": "#%%\n"
    }
   }
  },
  {
   "cell_type": "code",
   "execution_count": 20,
   "outputs": [
    {
     "name": "stdout",
     "output_type": "stream",
     "text": [
      "Peter   50      IT\r\n",
      "Jane    30      HR\r\n",
      "John    25      IT\r\n",
      "Andreas 45      HR\r\n"
     ]
    }
   ],
   "source": [
    "!cat employees.txt | awk '$1 != \"name\"' # AWK only go line by line and scan the first field not the whole line"
   ],
   "metadata": {
    "collapsed": false,
    "pycharm": {
     "name": "#%%\n"
    }
   }
  },
  {
   "cell_type": "markdown",
   "source": [
    "## Printing out number of fields"
   ],
   "metadata": {
    "collapsed": false,
    "pycharm": {
     "name": "#%% md\n"
    }
   }
  },
  {
   "cell_type": "code",
   "execution_count": 21,
   "outputs": [
    {
     "name": "stdout",
     "output_type": "stream",
     "text": [
      "3\r\n",
      "3\r\n",
      "3\r\n",
      "3\r\n",
      "3\r\n"
     ]
    }
   ],
   "source": [
    "!cat employees.txt | awk '{print NF}'"
   ],
   "metadata": {
    "collapsed": false,
    "pycharm": {
     "name": "#%%\n"
    }
   }
  },
  {
   "cell_type": "code",
   "execution_count": 22,
   "outputs": [
    {
     "name": "stdout",
     "output_type": "stream",
     "text": [
      "4\r\n"
     ]
    }
   ],
   "source": [
    "!echo \"1 2 3 4\" | awk '{print NF}'"
   ],
   "metadata": {
    "collapsed": false,
    "pycharm": {
     "name": "#%%\n"
    }
   }
  },
  {
   "cell_type": "code",
   "execution_count": 23,
   "outputs": [
    {
     "name": "stdout",
     "output_type": "stream",
     "text": [
      "four\r\n"
     ]
    }
   ],
   "source": [
    "!echo \"one two three four\" | awk '{print $NF}' # Since NF=4 (this is the same as print $4) field number 4 which is four"
   ],
   "metadata": {
    "collapsed": false,
    "pycharm": {
     "name": "#%%\n"
    }
   }
  },
  {
   "cell_type": "code",
   "execution_count": 24,
   "outputs": [
    {
     "name": "stdout",
     "output_type": "stream",
     "text": [
      "three\r\n"
     ]
    }
   ],
   "source": [
    "!echo \"one two three four\" | awk '{print $(NF - 1)}'"
   ],
   "metadata": {
    "collapsed": false,
    "pycharm": {
     "name": "#%%\n"
    }
   }
  },
  {
   "cell_type": "markdown",
   "source": [
    "## Number of records"
   ],
   "metadata": {
    "collapsed": false,
    "pycharm": {
     "name": "#%% md\n"
    }
   }
  },
  {
   "cell_type": "code",
   "execution_count": 25,
   "outputs": [
    {
     "name": "stdout",
     "output_type": "stream",
     "text": [
      "1\r\n"
     ]
    }
   ],
   "source": [
    "!echo \"one two three four\" | awk '{print NR}' # only one line"
   ],
   "metadata": {
    "collapsed": false,
    "pycharm": {
     "name": "#%%\n"
    }
   }
  },
  {
   "cell_type": "code",
   "execution_count": 26,
   "outputs": [
    {
     "name": "stdout",
     "output_type": "stream",
     "text": [
      "1\r\n",
      "2\r\n",
      "3\r\n",
      "4\r\n",
      "5\r\n"
     ]
    }
   ],
   "source": [
    "!cat employees.txt | awk '{print NR}' # only one line"
   ],
   "metadata": {
    "collapsed": false,
    "pycharm": {
     "name": "#%%\n"
    }
   }
  },
  {
   "cell_type": "code",
   "execution_count": 27,
   "outputs": [
    {
     "name": "stdout",
     "output_type": "stream",
     "text": [
      "5\r\n"
     ]
    }
   ],
   "source": [
    "!cat employees.txt | awk 'END{print NR}' # only print NR at the END of the awk program"
   ],
   "metadata": {
    "collapsed": false,
    "pycharm": {
     "name": "#%%\n"
    }
   }
  },
  {
   "cell_type": "code",
   "execution_count": 28,
   "outputs": [
    {
     "name": "stdout",
     "output_type": "stream",
     "text": [
      "3\r\n"
     ]
    }
   ],
   "source": [
    "!cat employees.txt | awk 'END{print NF}' # only print NF for the last line at the end of the awk program"
   ],
   "metadata": {
    "collapsed": false,
    "pycharm": {
     "name": "#%%\n"
    }
   }
  },
  {
   "cell_type": "markdown",
   "source": [
    "## Field Seperator"
   ],
   "metadata": {
    "collapsed": false,
    "pycharm": {
     "name": "#%% md\n"
    }
   }
  },
  {
   "cell_type": "code",
   "execution_count": 29,
   "outputs": [
    {
     "name": "stdout",
     "output_type": "stream",
     "text": [
      "name,age,UNIT\r\n",
      "Peter,50,IT\r\n",
      "Jane,30,HR\r\n",
      "John,25,IT\r\n",
      "Andreas,45,HR"
     ]
    }
   ],
   "source": [
    "!cat employees_field_seperator.txt"
   ],
   "metadata": {
    "collapsed": false,
    "pycharm": {
     "name": "#%%\n"
    }
   }
  },
  {
   "cell_type": "code",
   "execution_count": 30,
   "outputs": [
    {
     "name": "stdout",
     "output_type": "stream",
     "text": [
      "name UNIT\r\n",
      "Peter IT\r\n",
      "Jane HR\r\n",
      "John IT\r\n",
      "Andreas HR\r\n"
     ]
    }
   ],
   "source": [
    "!cat employees_field_seperator.txt | awk 'BEGIN{FS=\",\"} {print $1 \" \" $3}'"
   ],
   "metadata": {
    "collapsed": false,
    "pycharm": {
     "name": "#%%\n"
    }
   }
  },
  {
   "cell_type": "code",
   "execution_count": 31,
   "outputs": [
    {
     "name": "stdout",
     "output_type": "stream",
     "text": [
      "name UNIT\r\n",
      "Peter IT\r\n",
      "Jane HR\r\n",
      "John IT\r\n",
      "Andreas HR\r\n"
     ]
    }
   ],
   "source": [
    "!cat employees_field_seperator.txt | awk -F \",\" '{print $1 \" \" $3}' # Same as above with -F option"
   ],
   "metadata": {
    "collapsed": false,
    "pycharm": {
     "name": "#%%\n"
    }
   }
  },
  {
   "cell_type": "markdown",
   "source": [
    "## Record Seperator"
   ],
   "metadata": {
    "collapsed": false,
    "pycharm": {
     "name": "#%% md\n"
    }
   }
  },
  {
   "cell_type": "code",
   "execution_count": 32,
   "outputs": [
    {
     "name": "stdout",
     "output_type": "stream",
     "text": [
      "name,age,UNIT\r\n",
      "Peter,50\r\n",
      "\r\n",
      "Jane,30,HR\r\n",
      "John,25\r\n",
      "\r\n",
      "Andreas,45,HR\r\n"
     ]
    }
   ],
   "source": [
    "!cat employees_field_seperator.txt | awk 'BEGIN{RS=\",IT\"} {print $0}' # Every \",IT\" word is a record seperator"
   ],
   "metadata": {
    "collapsed": false,
    "pycharm": {
     "name": "#%%\n"
    }
   }
  },
  {
   "cell_type": "code",
   "execution_count": 33,
   "outputs": [
    {
     "name": "stdout",
     "output_type": "stream",
     "text": [
      "name,age,UNIT\r\n",
      "Peter,50\r\n",
      "\r\n",
      "Jane,30,HR\r\n",
      "John,25\r\n",
      "\r\n",
      "Andreas,45,HR\r\n",
      "3 is the number of total records\r\n"
     ]
    }
   ],
   "source": [
    "!cat employees_field_seperator.txt | awk 'BEGIN{RS=\",IT\"} {print $0} END{print NR \" is the number of total records\"}' # Every \",IT\" word is a record seperator"
   ],
   "metadata": {
    "collapsed": false,
    "pycharm": {
     "name": "#%%\n"
    }
   }
  },
  {
   "cell_type": "code",
   "execution_count": 34,
   "outputs": [
    {
     "name": "stdout",
     "output_type": "stream",
     "text": [
      "name,age,UNIT\r\n",
      "Peter,50\r\n",
      "\r\n",
      "Jane,30,HR\r\n",
      "John,25\r\n",
      "\r\n",
      "Andreas,45,HR\r\n",
      "3 is the number of total records\r\n"
     ]
    }
   ],
   "source": [
    "!cat employees_field_seperator.txt | awk 'BEGIN{RS=\",IT\" ; FS=\",\"} {print $0} END{print NR \" is the number of total records\"}' # Multiple parameters in BEGIN with ;"
   ],
   "metadata": {
    "collapsed": false,
    "pycharm": {
     "name": "#%%\n"
    }
   }
  },
  {
   "cell_type": "markdown",
   "source": [
    "## Variable Assignment\n",
    "### Mathematical operations\n",
    "\n",
    "- Increment / Decrement\n",
    "1. a++ (a--)\n",
    "2. a=a+1 (a=a-1)\n",
    "- Classical math operations\n",
    "1. a=b+c\n",
    "2. a=b*c\n",
    "3. a=b/c\n",
    "4. a=b-c\n",
    "- Inline assignment\n",
    "1. var += increment\n",
    "2. var -= decrement\n",
    "3. var *= coefficient\n",
    "4. var /= divisor\n",
    "5. var %= modulus\n",
    "6. var ^= power-number\n",
    "7. var **= power-number"
   ],
   "metadata": {
    "collapsed": false,
    "pycharm": {
     "name": "#%% md\n"
    }
   }
  },
  {
   "cell_type": "code",
   "execution_count": 35,
   "outputs": [
    {
     "name": "stdout",
     "output_type": "stream",
     "text": [
      "5 5\r\n"
     ]
    }
   ],
   "source": [
    "!cat employees_field_seperator.txt | awk 'BEGIN{count=0} {count++} END{print NR, count}'"
   ],
   "metadata": {
    "collapsed": false,
    "pycharm": {
     "name": "#%%\n"
    }
   }
  },
  {
   "cell_type": "markdown",
   "source": [
    "## If Else"
   ],
   "metadata": {
    "collapsed": false,
    "pycharm": {
     "name": "#%% md\n"
    }
   }
  },
  {
   "cell_type": "code",
   "execution_count": 36,
   "outputs": [
    {
     "name": "stdout",
     "output_type": "stream",
     "text": [
      "Peter,50,IT\r\n",
      "John,25,IT\r\n"
     ]
    }
   ],
   "source": [
    "!cat employees_field_seperator.txt | awk 'BEGIN{FS=\",\"} {if ($3 == \"IT\") print $0}'"
   ],
   "metadata": {
    "collapsed": false,
    "pycharm": {
     "name": "#%%\n"
    }
   }
  },
  {
   "cell_type": "code",
   "execution_count": 37,
   "outputs": [
    {
     "name": "stdout",
     "output_type": "stream",
     "text": [
      "Field 3 is not IT\r\n",
      "Peter,50,IT\r\n",
      "Field 3 is not IT\r\n",
      "John,25,IT\r\n",
      "Field 3 is not IT\r\n"
     ]
    }
   ],
   "source": [
    "!cat employees_field_seperator.txt | awk 'BEGIN{FS=\",\"} {if ($3 == \"IT\") {print $0} else {print \"Field 3 is not IT\"}}'"
   ],
   "metadata": {
    "collapsed": false,
    "pycharm": {
     "name": "#%%\n"
    }
   }
  },
  {
   "cell_type": "markdown",
   "source": [
    "## For Loop"
   ],
   "metadata": {
    "collapsed": false,
    "pycharm": {
     "name": "#%% md\n"
    }
   }
  },
  {
   "cell_type": "code",
   "execution_count": 38,
   "outputs": [
    {
     "name": "stdout",
     "output_type": "stream",
     "text": [
      "hello 1\r\n",
      "hello 2\r\n",
      "hello 3\r\n",
      "hello 4\r\n",
      "hello 5\r\n"
     ]
    }
   ],
   "source": [
    "!awk 'BEGIN{for (i=1;i<=5;i++) {print \"hello\", i}}'"
   ],
   "metadata": {
    "collapsed": false,
    "pycharm": {
     "name": "#%%\n"
    }
   }
  },
  {
   "cell_type": "code",
   "execution_count": 39,
   "outputs": [
    {
     "name": "stdout",
     "output_type": "stream",
     "text": [
      "field: 1 name\r\n",
      "field: 2 age\r\n",
      "field: 3 UNIT\r\n",
      "field: 1 Peter\r\n",
      "field: 2 50\r\n",
      "field: 3 IT\r\n",
      "field: 1 Jane\r\n",
      "field: 2 30\r\n",
      "field: 3 HR\r\n",
      "field: 1 John\r\n",
      "field: 2 25\r\n",
      "field: 3 IT\r\n",
      "field: 1 Andreas\r\n",
      "field: 2 45\r\n",
      "field: 3 HR\r\n"
     ]
    }
   ],
   "source": [
    "!cat employees_field_seperator.txt | awk -F \",\" '{for (i=1 ; i<=NF ; i++) {print \"field:\",i,$i}}'"
   ],
   "metadata": {
    "collapsed": false,
    "pycharm": {
     "name": "#%%\n"
    }
   }
  },
  {
   "cell_type": "code",
   "execution_count": null,
   "outputs": [],
   "source": [],
   "metadata": {
    "collapsed": false,
    "pycharm": {
     "name": "#%%\n",
     "is_executing": true
    }
   }
  }
 ],
 "metadata": {
  "kernelspec": {
   "display_name": "Python 3",
   "language": "python",
   "name": "python3"
  },
  "language_info": {
   "codemirror_mode": {
    "name": "ipython",
    "version": 2
   },
   "file_extension": ".py",
   "mimetype": "text/x-python",
   "name": "python",
   "nbconvert_exporter": "python",
   "pygments_lexer": "ipython2",
   "version": "2.7.6"
  }
 },
 "nbformat": 4,
 "nbformat_minor": 0
}